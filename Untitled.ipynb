{
 "cells": [
  {
   "cell_type": "code",
   "execution_count": 8,
   "id": "1a046f83-3fb2-40d8-9f06-48f4a2811301",
   "metadata": {},
   "outputs": [],
   "source": [
    "import yfinance as yf\n",
    "import numpy as np"
   ]
  },
  {
   "cell_type": "code",
   "execution_count": 5,
   "id": "a8ea839b-bf21-4166-b8f2-9cf8afd1f855",
   "metadata": {},
   "outputs": [],
   "source": [
    "ticker = \"AAPL\"\n",
    "stock = yf.Ticker(ticker)\n",
    "data = stock.history(period =\"1y\")"
   ]
  },
  {
   "cell_type": "code",
   "execution_count": 7,
   "id": "de39e8ab-00b0-4437-8c46-406d994fe9c1",
   "metadata": {},
   "outputs": [
    {
     "data": {
      "text/plain": [
       "Date\n",
       "2024-04-02 00:00:00-04:00         NaN\n",
       "2024-04-03 00:00:00-04:00    0.004797\n",
       "2024-04-04 00:00:00-04:00   -0.004892\n",
       "2024-04-05 00:00:00-04:00    0.004502\n",
       "2024-04-08 00:00:00-04:00   -0.006663\n",
       "                               ...   \n",
       "2025-03-26 00:00:00-04:00   -0.009922\n",
       "2025-03-27 00:00:00-04:00    0.010473\n",
       "2025-03-28 00:00:00-04:00   -0.026580\n",
       "2025-03-31 00:00:00-04:00    0.019413\n",
       "2025-04-01 00:00:00-04:00    0.004772\n",
       "Name: Close, Length: 251, dtype: float64"
      ]
     },
     "execution_count": 7,
     "metadata": {},
     "output_type": "execute_result"
    }
   ],
   "source": [
    "data[\"Close\"].pct_change()"
   ]
  },
  {
   "cell_type": "code",
   "execution_count": 14,
   "id": "2c26b4b5-ea15-493c-939c-c5180d91abf2",
   "metadata": {},
   "outputs": [
    {
     "data": {
      "text/plain": [
       "Date\n",
       "2024-04-02 00:00:00-04:00         NaN\n",
       "2024-04-03 00:00:00-04:00    0.004786\n",
       "2024-04-04 00:00:00-04:00   -0.004904\n",
       "2024-04-05 00:00:00-04:00    0.004492\n",
       "2024-04-08 00:00:00-04:00   -0.006686\n",
       "                               ...   \n",
       "2025-03-26 00:00:00-04:00   -0.009971\n",
       "2025-03-27 00:00:00-04:00    0.010418\n",
       "2025-03-28 00:00:00-04:00   -0.026940\n",
       "2025-03-31 00:00:00-04:00    0.019227\n",
       "2025-04-01 00:00:00-04:00    0.004761\n",
       "Name: Close, Length: 251, dtype: float64"
      ]
     },
     "execution_count": 14,
     "metadata": {},
     "output_type": "execute_result"
    }
   ],
   "source": [
    "np.log(data[\"Close\"]/data[\"Close\"].shift(1))"
   ]
  },
  {
   "cell_type": "code",
   "execution_count": 15,
   "id": "bd43e925-9f23-479f-8bf0-49f0087e9d60",
   "metadata": {},
   "outputs": [
    {
     "data": {
      "text/plain": [
       "Date\n",
       "2024-04-02 00:00:00-04:00    168.046509\n",
       "2024-04-03 00:00:00-04:00    168.852707\n",
       "2024-04-04 00:00:00-04:00    168.026611\n",
       "2024-04-05 00:00:00-04:00    168.783035\n",
       "2024-04-08 00:00:00-04:00    167.658356\n",
       "                                ...    \n",
       "2025-03-26 00:00:00-04:00    221.529999\n",
       "2025-03-27 00:00:00-04:00    223.850006\n",
       "2025-03-28 00:00:00-04:00    217.899994\n",
       "2025-03-31 00:00:00-04:00    222.130005\n",
       "2025-04-01 00:00:00-04:00    223.190002\n",
       "Name: Close, Length: 251, dtype: float64"
      ]
     },
     "execution_count": 15,
     "metadata": {},
     "output_type": "execute_result"
    }
   ],
   "source": [
    "data[\"Close\"]"
   ]
  },
  {
   "cell_type": "code",
   "execution_count": 18,
   "id": "77253e69-14a4-4853-96eb-de243d2dd84f",
   "metadata": {},
   "outputs": [
    {
     "data": {
      "text/plain": [
       "Date\n",
       "2024-04-02 00:00:00-04:00           NaN\n",
       "2024-04-03 00:00:00-04:00    168.046509\n",
       "2024-04-04 00:00:00-04:00    168.852707\n",
       "2024-04-05 00:00:00-04:00    168.026611\n",
       "2024-04-08 00:00:00-04:00    168.783035\n",
       "                                ...    \n",
       "2025-03-26 00:00:00-04:00    223.750000\n",
       "2025-03-27 00:00:00-04:00    221.529999\n",
       "2025-03-28 00:00:00-04:00    223.850006\n",
       "2025-03-31 00:00:00-04:00    217.899994\n",
       "2025-04-01 00:00:00-04:00    222.130005\n",
       "Name: Close, Length: 251, dtype: float64"
      ]
     },
     "execution_count": 18,
     "metadata": {},
     "output_type": "execute_result"
    }
   ],
   "source": [
    "data[\"Close\"].shift(1)"
   ]
  },
  {
   "cell_type": "code",
   "execution_count": 20,
   "id": "30adf64b-3058-46b7-87a7-6d8ddee59417",
   "metadata": {},
   "outputs": [
    {
     "data": {
      "text/plain": [
       "0.00478599830806531"
      ]
     },
     "execution_count": 20,
     "metadata": {},
     "output_type": "execute_result"
    }
   ],
   "source": [
    "np.log(168.852707/168.046509)"
   ]
  },
  {
   "cell_type": "code",
   "execution_count": 1,
   "id": "a38caaff-90ab-437e-bfd3-557d0e614b75",
   "metadata": {},
   "outputs": [
    {
     "data": {
      "text/plain": [
       "0.005"
      ]
     },
     "execution_count": 1,
     "metadata": {},
     "output_type": "execute_result"
    }
   ],
   "source": [
    "500/100000"
   ]
  },
  {
   "cell_type": "code",
   "execution_count": 2,
   "id": "237eae78",
   "metadata": {},
   "outputs": [
    {
     "data": {
      "text/plain": [
       "0.1"
      ]
     },
     "execution_count": 2,
     "metadata": {},
     "output_type": "execute_result"
    }
   ],
   "source": [
    "100/1000"
   ]
  },
  {
   "cell_type": "code",
   "execution_count": null,
   "id": "68274c33",
   "metadata": {},
   "outputs": [],
   "source": []
  }
 ],
 "metadata": {
  "kernelspec": {
   "display_name": ".venv",
   "language": "python",
   "name": "python3"
  },
  "language_info": {
   "codemirror_mode": {
    "name": "ipython",
    "version": 3
   },
   "file_extension": ".py",
   "mimetype": "text/x-python",
   "name": "python",
   "nbconvert_exporter": "python",
   "pygments_lexer": "ipython3",
   "version": "3.10.12"
  }
 },
 "nbformat": 4,
 "nbformat_minor": 5
}
